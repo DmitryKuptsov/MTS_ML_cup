{
  "nbformat": 4,
  "nbformat_minor": 0,
  "metadata": {
    "colab": {
      "provenance": []
    },
    "kernelspec": {
      "name": "python3",
      "display_name": "Python 3"
    },
    "language_info": {
      "name": "python"
    }
  },
  "cells": [
    {
      "cell_type": "code",
      "execution_count": 2,
      "metadata": {
        "id": "gn4vdViwYvT9"
      },
      "outputs": [],
      "source": [
        "import pyarrow.parquet as pa\n",
        "import pandas as pd\n",
        "import numpy as np"
      ]
    },
    {
      "cell_type": "code",
      "source": [
        "df_0 = pd.read_parquet('data0.pqt', engine='pyarrow')\n",
        "df_1 = pd.read_parquet('data1.pqt', engine='pyarrow')\n",
        "df_2 = pd.read_parquet('data2.pqt', engine='pyarrow')\n",
        "df_3 = pd.read_parquet('data3.pqt', engine='pyarrow')\n",
        "df_4 = pd.read_parquet('data4.pqt', engine='pyarrow')\n",
        "df_5 = pd.read_parquet('data5.pqt', engine='pyarrow')\n",
        "df_6 = pd.read_parquet('data6.pqt', engine='pyarrow')\n",
        "df_7 = pd.read_parquet('data7.pqt', engine='pyarrow')\n",
        "df_8 = pd.read_parquet('data8.pqt', engine='pyarrow')\n",
        "df_9 = pd.read_parquet('data9.pqt', engine='pyarrow')"
      ],
      "metadata": {
        "id": "EkGqFlptc4Gq"
      },
      "execution_count": 4,
      "outputs": []
    },
    {
      "cell_type": "code",
      "source": [
        "df__1 = pd.read_parquet('submit_2.pqt', engine='pyarrow')"
      ],
      "metadata": {
        "id": "ObQBmL7qHsZQ"
      },
      "execution_count": 4,
      "outputs": []
    },
    {
      "cell_type": "code",
      "source": [
        "dd_0 = pd.unique(df_0['user_id'])\n",
        "dd_1 = pd.unique(df_1['user_id'])\n",
        "dd_2 = pd.unique(df_2['user_id'])\n",
        "dd_3 = pd.unique(df_3['user_id'])\n",
        "dd_4 = pd.unique(df_4['user_id'])\n",
        "dd_5 = pd.unique(df_5['user_id'])\n",
        "dd_6 = pd.unique(df_6['user_id'])\n",
        "dd_7 = pd.unique(df_7['user_id'])\n",
        "dd_8 = pd.unique(df_8['user_id'])\n",
        "dd_9 = pd.unique(df_9['user_id'])"
      ],
      "metadata": {
        "id": "ZLafoxG5H0It"
      },
      "execution_count": null,
      "outputs": []
    },
    {
      "cell_type": "code",
      "source": [
        "from functools import reduce\n",
        "arrr = reduce(np.union1d, (dd_0, dd_1,dd_2,dd_3,dd_4,dd_5,dd_6,dd_7,dd_8,dd_9))"
      ],
      "metadata": {
        "id": "DOCy4q92LWy_"
      },
      "execution_count": null,
      "outputs": []
    },
    {
      "cell_type": "code",
      "source": [
        "f = pd.DataFrame(setdiff1d(arrr, np.array(df__1['user_id'])))"
      ],
      "metadata": {
        "colab": {
          "base_uri": "https://localhost:8080/"
        },
        "id": "gMigdroUL9tn",
        "outputId": "0174b404-2bde-47db-9cbe-e92f81abd1e2"
      },
      "execution_count": 6,
      "outputs": [
        {
          "output_type": "execute_result",
          "data": {
            "text/plain": [
              "221301    221301\n",
              "31271      31271\n",
              "211594    211594\n",
              "253119    253119\n",
              "192578    192578\n",
              "           ...  \n",
              "145307    415284\n",
              "145308    415285\n",
              "145309    415286\n",
              "145312    415306\n",
              "145315    415315\n",
              "Name: user_id, Length: 144724, dtype: int64"
            ]
          },
          "metadata": {},
          "execution_count": 6
        }
      ]
    },
    {
      "cell_type": "code",
      "source": [
        "f.to_parquet('Wrong_user_ids.pqt')"
      ],
      "metadata": {
        "id": "gKPteKkWM9Uq"
      },
      "execution_count": null,
      "outputs": []
    }
  ]
}
